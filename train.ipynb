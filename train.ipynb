{
 "cells": [
  {
   "cell_type": "code",
   "execution_count": 2,
   "metadata": {},
   "outputs": [],
   "source": [
    "import plotly.io as pio\n",
    "pio.renderers.default = 'iframe_connected'"
   ]
  },
  {
   "cell_type": "code",
   "execution_count": 1,
   "metadata": {},
   "outputs": [
    {
     "ename": "NameError",
     "evalue": "name 'torch' is not defined",
     "output_type": "error",
     "traceback": [
      "\u001b[0;31m---------------------------------------------------------------------------\u001b[0m",
      "\u001b[0;31mNameError\u001b[0m                                 Traceback (most recent call last)",
      "\u001b[0;32m/tmp/ipykernel_2068523/3149284693.py\u001b[0m in \u001b[0;36m<module>\u001b[0;34m\u001b[0m\n\u001b[1;32m      6\u001b[0m     \u001b[0;34m\"batches_per_epoch\"\u001b[0m\u001b[0;34m:\u001b[0m \u001b[0;32mNone\u001b[0m\u001b[0;34m,\u001b[0m\u001b[0;34m\u001b[0m\u001b[0;34m\u001b[0m\u001b[0m\n\u001b[1;32m      7\u001b[0m     \u001b[0;34m\"batches_per_epoch_val\"\u001b[0m\u001b[0;34m:\u001b[0m \u001b[0;32mNone\u001b[0m\u001b[0;34m,\u001b[0m\u001b[0;34m\u001b[0m\u001b[0;34m\u001b[0m\u001b[0m\n\u001b[0;32m----> 8\u001b[0;31m     \u001b[0;34m\"device\"\u001b[0m\u001b[0;34m:\u001b[0m\u001b[0mtorch\u001b[0m\u001b[0;34m.\u001b[0m\u001b[0mdevice\u001b[0m\u001b[0;34m(\u001b[0m\u001b[0;34m\"cuda\"\u001b[0m\u001b[0;34m)\u001b[0m\u001b[0;34m\u001b[0m\u001b[0;34m\u001b[0m\u001b[0m\n\u001b[0m\u001b[1;32m      9\u001b[0m }\n\u001b[1;32m     10\u001b[0m \u001b[0mtrain_dataset\u001b[0m \u001b[0;34m=\u001b[0m \u001b[0mFreiHAND\u001b[0m\u001b[0;34m(\u001b[0m\u001b[0mconfig\u001b[0m\u001b[0;34m=\u001b[0m\u001b[0mconfig\u001b[0m\u001b[0;34m,\u001b[0m \u001b[0mset_type\u001b[0m\u001b[0;34m=\u001b[0m\u001b[0;34m\"train\"\u001b[0m\u001b[0;34m)\u001b[0m\u001b[0;34m\u001b[0m\u001b[0;34m\u001b[0m\u001b[0m\n",
      "\u001b[0;31mNameError\u001b[0m: name 'torch' is not defined"
     ]
    }
   ],
   "source": [
    "config = {\n",
    "    \"data_dir\": \"./\",\n",
    "    \"epochs\": 100,\n",
    "    \"batch_size\": 1,\n",
    "    \"learning_rate\": 0.1,\n",
    "    \"batches_per_epoch\": None,\n",
    "    \"batches_per_epoch_val\": None,\n",
    "    \"device\":torch.device(\"cuda\")\n",
    "}\n",
    "train_dataset = FreiHAND(config=config, set_type=\"train\")\n",
    "train_dataloader = DataLoader(\n",
    "    train_dataset,\n",
    "    config[\"batch_size\"],\n",
    "    num_workers=4,\n",
    "    shuffle=True,\n",
    "    pin_memory=True\n",
    ")\n",
    "CHANNEL_NUM = 3\n",
    "\n",
    "pixel_num = 0\n",
    "channel_sum = 0\n",
    "channel_sum_squared = 0\n",
    "num_batches=0\n",
    "for data in train_dataloader:\n",
    "    im = data[\"image_raw\"]\n",
    "    channel_sum += torch.mean(im,dim=[0,2,3])\n",
    "    channel_sum_squared += torch.mean(im**2,dim=[0,2,3])\n",
    "    num_batches +=1\n",
    "\n",
    "mean = channel_sum/num_batches\n",
    "std = (channel_sum_squared/num_batches-mean**2)**0.5\n"
   ]
  },
  {
   "cell_type": "code",
   "execution_count": 2,
   "metadata": {},
   "outputs": [],
   "source": [
    "import numpy as np\n",
    "from PIL import Image\n",
    "import matplotlib.pyplot as plt\n",
    "import torch\n",
    "from torch.utils.data import DataLoader\n",
    "from torchvision import transforms\n",
    "from torch.utils.data import Dataset\n",
    "import torch.optim as optim\n",
    "import torch.nn as nn\n",
    "#preputils\n",
    "import cv2\n",
    "from tqdm import tqdm\n",
    "\n",
    "N_KEYPOINTS = 21\n",
    "N_IMG_CHANNELS = 3\n",
    "RAW_IMG_SIZE = 224\n",
    "MODEL_IMG_SIZE = 256\n",
    "HEATMAP_SIZE = 64\n",
    "DATASET_MEANS = [0.3950, 0.4323, 0.2954]\n",
    "DATASET_STDS = [0.2245, 0.1987, 0.2296]\n",
    "MODEL_NEURONS = 16\n",
    "\n",
    "COLORMAP = {\n",
    "    \"thumb\": {\"ids\": [0, 1, 2, 3, 4], \"color\": \"g\"},\n",
    "    \"index\": {\"ids\": [0, 5, 6, 7, 8], \"color\": \"c\"},\n",
    "    \"middle\": {\"ids\": [0, 9, 10, 11, 12], \"color\": \"b\"},\n",
    "    \"ring\": {\"ids\": [0, 13, 14, 15, 16], \"color\": \"m\"},\n",
    "    \"little\": {\"ids\": [0, 17, 18, 19, 20], \"color\": \"r\"},\n",
    "}"
   ]
  },
  {
   "cell_type": "code",
   "execution_count": 3,
   "metadata": {},
   "outputs": [],
   "source": [
    "def projectPoints(xyz, K):\n",
    "    xyz = np.array(xyz)\n",
    "    K = np.array(K)\n",
    "    uv = np.matmul(K, xyz.T).T\n",
    "    return uv[:,:2] / uv[:,-1:]"
   ]
  },
  {
   "cell_type": "code",
   "execution_count": 4,
   "metadata": {},
   "outputs": [],
   "source": [
    "def get_norm_parameters(data_dir):\n",
    "    image_dir = os.path_join(data_dir, \"training/rgb\")\n",
    "    image_names = np.sort(os.listdir(image_dir))\n",
    "    CHANNEL_NUM = 3\n",
    "\n",
    "    pixel_num = 0\n",
    "    channel_sum = np.zeros(CHANNEL_NUM)\n",
    "    channel_sum_squared = np.zeros(CHANNEL_NUM)\n",
    "\n",
    "    for image in image_names:\n",
    "        im = cv2.imread(image) #cv2 reads image in BGR format. Shape is WxHxCHANNEL_NUM\n",
    "        im = im/255.0\n",
    "        pixel_num += (im.size/CHANNEL_NUM)\n",
    "        channel_sum += np.sum(im, axis=(0,1))\n",
    "        channel_sum_squared = np.sum(np.square(im), axis=(0,1))\n",
    "    \n",
    "    bgr_mean = channel_sum / pixel_num\n",
    "    bgr_std = np.sqrt(channel_sum_squared / pixel_num - np.square(bgr_mean))\n",
    "\n",
    "    rgb_mean = list(bgr_mean)[::-1]\n",
    "    rgb_std = list(bgr_std)[::-1]\n",
    "\n",
    "    return rgb_mean, rgb_std"
   ]
  },
  {
   "cell_type": "code",
   "execution_count": 5,
   "metadata": {},
   "outputs": [],
   "source": [
    "def get_norm_parameters(data_dir):\n",
    "    image_dir = os.path_join(data_dir, \"training/rgb\")\n",
    "    transform = transforms.Compose([\n",
    "        transforms.Resize(128),\n",
    "        transforms.ToTensor()\n",
    "    ])\n",
    "    dataset = datasets.ImageFolder(image_dir, transforms)\n",
    "    dataloader = torch.utils.data.Dataloader(dataset, batch_size=32)\n",
    "\n",
    "    return rgb_mean, rgb_std"
   ]
  },
  {
   "cell_type": "code",
   "execution_count": 6,
   "metadata": {},
   "outputs": [],
   "source": [
    "def show_data(dataset, n_samples=12):\n",
    "    n_cols = 4\n",
    "    n_rows = int(np.ceil(n_samples/n_cols))\n",
    "    plt.figure(figsize=[15, n_rows*4])\n",
    "  \n",
    "    ids=np.random.choice(dataset.__len__(), n_samples, replace=False)\n",
    "    for i, id_ in enumerate(ids, 1):\n",
    "        sample = dataset.__getitem__(id_)\n",
    "\n",
    "\n",
    "        keypoints = sample[\"keypoints\"].numpy()\n",
    "        keypoints = keypoints * MODEL_IMG_SIZE\n",
    "        image = sample[\"image\"].numpy()\n",
    "        #image = TF.resize(image,).numpy()\n",
    "        image = np.moveaxis(image, 0, -1)\n",
    "        plt.subplot(n_rows, n_cols, i)\n",
    "        plt.imshow(image)\n",
    "        plt.scatter(keypoints[:, 0], keypoints[:, 1], c=\"k\", alpha=0.5)\n",
    "        for finger, params in COLORMAP.items():\n",
    "            plt.plot(\n",
    "                keypoints[params[\"ids\"], 0],\n",
    "                keypoints[params[\"ids\"], 1],\n",
    "                params[\"color\"]\n",
    "            )\n",
    "        \n",
    "    plt.tight_layout()\n",
    "    plt.show()"
   ]
  },
  {
   "cell_type": "code",
   "execution_count": 1,
   "metadata": {},
   "outputs": [],
   "source": [
    "from FreiHAND import FreiHAND \n",
    "from StackedHourGlass import StackedHourGlass \n",
    "from Trainer import Trainer\n",
    "import torchvision as TF\n",
    "model = StackedHourGlass(num_stacks=8,num_residual=1)\n"
   ]
  },
  {
   "cell_type": "code",
   "execution_count": 10,
   "metadata": {},
   "outputs": [],
   "source": [
    "torch.cuda.empty_cache()"
   ]
  },
  {
   "cell_type": "code",
   "execution_count": 6,
   "metadata": {},
   "outputs": [
    {
     "data": {
      "text/plain": [
       "25453352"
      ]
     },
     "execution_count": 6,
     "metadata": {},
     "output_type": "execute_result"
    }
   ],
   "source": [
    "model = StackedHourGlass(num_stacks=8,num_residual=1)\n",
    "pytorch_total_params = sum(p.numel() for p in model.parameters())\n",
    "pytorch_total_params"
   ]
  },
  {
   "cell_type": "code",
   "execution_count": 13,
   "metadata": {},
   "outputs": [],
   "source": [
    "model = model.to(\"cuda\")\n",
    "inputs = torch.randn((6,3,256,256)).to(\"cuda\")\n",
    "outputs = model(inputs)\n",
    "loss_fn = torch.nn.MSELoss()\n",
    "parameters = model.parameters()\n",
    "optimizer = optim.RMSprop(model.parameters(), lr=0.00025, alpha=0.99,eps=1e-8)"
   ]
  },
  {
   "cell_type": "code",
   "execution_count": 18,
   "metadata": {},
   "outputs": [],
   "source": [
    "labels = [torch.randn(outputs[0].shape).to(\"cuda\") for i in range(len(outputs))]"
   ]
  },
  {
   "cell_type": "code",
   "execution_count": 19,
   "metadata": {},
   "outputs": [
    {
     "name": "stdout",
     "output_type": "stream",
     "text": [
      "tensor(9.3504, device='cuda:0', grad_fn=<AddBackward0>)\n"
     ]
    }
   ],
   "source": [
    "loss = 0\n",
    "for i in range(len(outputs)):\n",
    "    loss += loss_fn(outputs[i], labels[i])\n",
    "print(loss)"
   ]
  },
  {
   "cell_type": "code",
   "execution_count": 8,
   "metadata": {},
   "outputs": [],
   "source": [
    "\n",
    "import torch\n",
    "import torch.nn as nn\n",
    "import torchvision.transforms.functional as TF\n",
    "\n",
    "class Bottleneck(nn.Module):\n",
    "    def __init__(self, channels, in_channels=-1):\n",
    "        super(Bottleneck, self).__init__()\n",
    "        self.BNmomentum = 0.9\n",
    "        self.channels = channels\n",
    "        if (in_channels == -1):\n",
    "            self.in_channels = channels\n",
    "            self.skipLayer = nn.Identity()\n",
    "        else:\n",
    "            self.in_channels = in_channels\n",
    "            self.skipLayer = nn.Conv2d(in_channels,channels,1,1)\n",
    "        self.mainConv = nn.Sequential(\n",
    "            nn.BatchNorm2d(self.in_channels, self.BNmomentum),\n",
    "            nn.ReLU(inplace = True),\n",
    "            nn.Conv2d(self.in_channels, channels//2, 1, 1, 0),\n",
    "            nn.BatchNorm2d(channels//2, self.BNmomentum),\n",
    "            nn.ReLU(inplace = True),\n",
    "            nn.Conv2d(channels//2, channels//2, 3, 1, 1),\n",
    "            nn.BatchNorm2d(channels//2, self.BNmomentum),\n",
    "            nn.ReLU(inplace = True),\n",
    "            nn.Conv2d(channels//2, channels, 1, 1, 0)\n",
    "        )\n",
    "        self.relu = nn.ReLU(inplace = True)\n",
    "    def forward(self, X):\n",
    "        conv = self.mainConv(X)\n",
    "        X = self.skipLayer(X)\n",
    "        return torch.add(conv, X)\n",
    "        \n",
    "class LinearLayer(nn.Module):\n",
    "    def __init__(self, in_channels, out_channels):\n",
    "        super(LinearLayer, self).__init__()\n",
    "        self.conv = nn.Sequential(\n",
    "            nn.Conv2d(in_channels, out_channels,1),\n",
    "            nn.BatchNorm2d(out_channels),\n",
    "            nn.ReLU(inplace = True)\n",
    "        )\n",
    "    def forward(self, X):\n",
    "        return self.conv(X)\n",
    "\n",
    "class HourGlass(nn.Module):\n",
    "    def __init__(self, order, channels, num_residual):\n",
    "        super(HourGlass, self).__init__()\n",
    "        self.order = order\n",
    "        self.channels = channels\n",
    "        self.num_residual = num_residual\n",
    "        self.upper_bottleneck = nn.Sequential(*[Bottleneck(channels) for i in range(self.num_residual)])\n",
    "        self.max_pool = nn.MaxPool2d(2,2)\n",
    "        self.lower_bottleneck = nn.Sequential(*[Bottleneck(channels) for i in range(self.num_residual)])\n",
    "        self.output_bottleneck = nn.Sequential(*[Bottleneck(channels) for i in range(self.num_residual)])\n",
    "        if order > 1:\n",
    "            self.hg = HourGlass(order-1, channels, num_residual)\n",
    "        else:\n",
    "            self.deep_residuals = nn.Sequential(*[Bottleneck(channels) for i in range(self.num_residual)])\n",
    "        self.upsample = nn.Upsample(scale_factor=2)\n",
    "\n",
    "    def forward(self, X):\n",
    "        #Upper branch\n",
    "        up1 = X\n",
    "        up1 = self.upper_bottleneck(up1)\n",
    "        \n",
    "        #Lower branch\n",
    "        low1 = self.max_pool(X)\n",
    "        low1 = self.lower_bottleneck(low1)\n",
    "        \n",
    "        low2 = low1\n",
    "        if self.order > 1:\n",
    "            #Go into deeper level of hourglass\n",
    "            low2 = self.hg(low2)\n",
    "        else:\n",
    "            #Achieved deepest level, perform residuals at the latent space\n",
    "            low2 = self.deep_residuals(low2)\n",
    "        \n",
    "        low3 = low2\n",
    "        low3 = self.output_bottleneck(low3)\n",
    "        up2 = self.upsample(low3)\n",
    "        if up2.shape != up1.shape:  \n",
    "            up2 = TF.resize(up2, size=up1.shape[2:])\n",
    "        return torch.add(up2,up1)\n",
    "\n",
    "    def to(self, device):\n",
    "        new_self = super(HourGlass,self).to(device)\n",
    "        new_self.upper_bottleneck = self.upper_bottleneck.to(device)\n",
    "        new_self.max_pool = self.max_pool.to(device)\n",
    "        new_self.lower_bottleneck = self.lower_bottleneck.to(device)\n",
    "        self.output_bottleneck = self.output_bottleneck.to(device)\n",
    "        if self.order > 1:\n",
    "            new_self.hg = self.hg.to(device)\n",
    "        else:\n",
    "            new_self.deep_residuals = self.deep_residuals.to(device)\n",
    "        new_self.upsample = self.upsample.to(device)\n",
    "        return new_self\n",
    "\n",
    "class BeginStackedHourGlass(torch.nn.Module):\n",
    "    def __init__(self, in_channels,out_channels):\n",
    "        super(BeginStackedHourGlass, self).__init__()\n",
    "        self.begin = nn.Sequential(\n",
    "            nn.Conv2d(in_channels,64,7,2,3),\n",
    "            nn.BatchNorm2d(momentum=0.9,num_features=64),\n",
    "            nn.ReLU(inplace=True),\n",
    "            Bottleneck(128, in_channels=64),\n",
    "            nn.MaxPool2d(2,2),\n",
    "            Bottleneck(128),\n",
    "            Bottleneck(out_channels, in_channels = 128)\n",
    "        )\n",
    "    def forward(self, X):\n",
    "        return self.begin(X)\n",
    "\n",
    "class StackedHourGlass(torch.nn.Module):\n",
    "    def __init__(self, in_channels=3, out_channels=21, num_stacks = 1, num_residual=1, hourglass_depth=4,n_features=256):\n",
    "        super(StackedHourGlass, self).__init__()\n",
    "        self.out_channels = out_channels\n",
    "        self.in_channels = in_channels\n",
    "        self.relu = nn.ReLU(inplace=True)\n",
    "        self.num_stacks = num_stacks\n",
    "        self.num_residual = num_residual\n",
    "        self.begin = BeginStackedHourGlass(in_channels,n_features)\n",
    "        self.hourglasses = nn.ModuleList([HourGlass(hourglass_depth,n_features,self.num_residual) for i in range(self.num_stacks)])\n",
    "        self.intermediate_bottlenecks = nn.ModuleList([nn.Sequential(*[Bottleneck(n_features) for j in range(self.num_residual)]) for i in range(self.num_stacks)])\n",
    "        self.linear_layers = nn.ModuleList([LinearLayer(n_features,n_features) for i in range(self.num_stacks)])\n",
    "        self.Ys = nn.ModuleList([nn.Conv2d(n_features,self.out_channels,1) for i in range(self.num_stacks)])\n",
    "        self.intermediate1s = nn.ModuleList([nn.Conv2d(n_features,n_features,1) for i in range(self.num_stacks-1)])\n",
    "        self.intermediate2s = nn.ModuleList([nn.Conv2d(self.out_channels,n_features,1) for i in range(self.num_stacks-1)])\n",
    "    def forward(self, X):\n",
    "        X = self.begin(X)\n",
    "        ys = []\n",
    "        for i in range(self.num_stacks):\n",
    "            X = self.hourglasses[i](X)\n",
    "\n",
    "            X = self.intermediate_bottlenecks[i](X)\n",
    "            X = self.linear_layers[i](X)\n",
    "\n",
    "            Y = self.Ys[i](X)\n",
    "            ys.append(Y)\n",
    "            if i < self.num_stacks -1:\n",
    "                y_intermediate_1 = self.intermediate1s[i](X)\n",
    "                y_intermediate_2 = self.intermediate2s[i](Y)\n",
    "                X = torch.add(y_intermediate_1,y_intermediate_2)\n",
    "        return ys"
   ]
  },
  {
   "cell_type": "code",
   "execution_count": 66,
   "metadata": {},
   "outputs": [
    {
     "data": {
      "text/plain": [
       "12867284"
      ]
     },
     "execution_count": 66,
     "metadata": {},
     "output_type": "execute_result"
    }
   ],
   "source": [
    "from torchsummary import summary\n",
    "model = StackedHourGlass(num_stacks=4).to(\"cuda\")\n",
    "pytorch_total_params = sum(p.numel() for p in model.parameters())\n",
    "pytorch_total_params"
   ]
  },
  {
   "cell_type": "code",
   "execution_count": 54,
   "metadata": {},
   "outputs": [
    {
     "data": {
      "text/plain": [
       "<All keys matched successfully>"
      ]
     },
     "execution_count": 54,
     "metadata": {},
     "output_type": "execute_result"
    }
   ],
   "source": [
    "state_dict = torch.load(\"/data/nnuser/saoudio/hand_pose_detection/model_04012022141354_140.pt\")\n",
    "# create new OrderedDict that does not contain `module.`\n",
    "# load params\n",
    "model = StackedHourGlass(num_stacks=8,num_residual=1)\n",
    "model.load_state_dict(state_dict)"
   ]
  },
  {
   "cell_type": "code",
   "execution_count": 11,
   "metadata": {},
   "outputs": [
    {
     "data": {
      "text/plain": [
       "<matplotlib.image.AxesImage at 0x7f6353638d90>"
      ]
     },
     "execution_count": 11,
     "metadata": {},
     "output_type": "execute_result"
    },
    {
     "data": {
      "image/png": "[encoded data removed]",
      "text/plain": [
       "<Figure size 432x288 with 1 Axes>"
      ]
     },
     "metadata": {
      "needs_background": "light"
     },
     "output_type": "display_data"
    }
   ],
   "source": [
    "config = {\n",
    "    \"data_dir\": \"./\",\n",
    "    \"epochs\": 100,\n",
    "    \"batch_size\": 6,\n",
    "    \"learning_rate\": 0.0025,\n",
    "    \"batches_per_epoch\": 1,\n",
    "    \"batches_per_epoch_val\": 1,\n",
    "    \"device\": torch.device(\"cuda\")\n",
    "}\n",
    "model = model.to(\"cuda\")\n",
    "train_dataset = FreiHAND(config=config, set_type=\"train\")\n",
    "item = train_dataset.__getitem__(1)\n",
    "image_raw = item[\"image_raw\"].numpy()\n",
    "image = item[\"image\"]\n",
    "#image = TF.resize(image,).numpy()\n",
    "image_raw = np.moveaxis(image_raw, 0, -1)\n",
    "plt.imshow(image_raw)"
   ]
  },
  {
   "cell_type": "code",
   "execution_count": 13,
   "metadata": {},
   "outputs": [
    {
     "data": {
      "text/plain": [
       "<matplotlib.image.AxesImage at 0x7f63539fe3a0>"
      ]
     },
     "execution_count": 13,
     "metadata": {},
     "output_type": "execute_result"
    },
    {
     "data": {
      "image/png": "[encoded data removed]",
      "text/plain": [
       "<Figure size 432x288 with 1 Axes>"
      ]
     },
     "metadata": {
      "needs_background": "light"
     },
     "output_type": "display_data"
    }
   ],
   "source": [
    "plt.imshow(train_dataset.__getitem__(0)[\"heatmaps\"][2].numpy())"
   ]
  },
  {
   "cell_type": "code",
   "execution_count": 14,
   "metadata": {},
   "outputs": [],
   "source": [
    "heatmaps = model(torch.unsqueeze(image,0).to(\"cuda\"))"
   ]
  },
  {
   "cell_type": "code",
   "execution_count": 15,
   "metadata": {},
   "outputs": [],
   "source": [
    "model2 = StackedHourGlass(num_stacks=8,num_residual=1).to(\"cuda\")"
   ]
  },
  {
   "cell_type": "code",
   "execution_count": 16,
   "metadata": {},
   "outputs": [],
   "source": [
    "heatmaps2 = model2(torch.unsqueeze(image,0).to(\"cuda\"))"
   ]
  },
  {
   "cell_type": "code",
   "execution_count": 17,
   "metadata": {},
   "outputs": [
    {
     "data": {
      "text/plain": [
       "<matplotlib.image.AxesImage at 0x7f635caa12b0>"
      ]
     },
     "execution_count": 17,
     "metadata": {},
     "output_type": "execute_result"
    },
    {
     "data": {
      "image/png": "[encoded data removed]",
      "text/plain": [
       "<Figure size 432x288 with 1 Axes>"
      ]
     },
     "metadata": {
      "needs_background": "light"
     },
     "output_type": "display_data"
    }
   ],
   "source": [
    "plt.imshow(heatmaps[-1][0][-1].cpu().detach().numpy())"
   ]
  },
  {
   "cell_type": "code",
   "execution_count": 18,
   "metadata": {},
   "outputs": [
    {
     "data": {
      "text/plain": [
       "<matplotlib.image.AxesImage at 0x7f635cc4ae80>"
      ]
     },
     "execution_count": 18,
     "metadata": {},
     "output_type": "execute_result"
    },
    {
     "data": {
      "image/png": "[encoded data removed]",
      "text/plain": [
       "<Figure size 432x288 with 1 Axes>"
      ]
     },
     "metadata": {
      "needs_background": "light"
     },
     "output_type": "display_data"
    }
   ],
   "source": [
    "plt.imshow(heatmaps2[-1][0][0].cpu().detach().numpy())"
   ]
  },
  {
   "cell_type": "code",
   "execution_count": 10,
   "metadata": {},
   "outputs": [
    {
     "name": "stderr",
     "output_type": "stream",
     "text": [
      "                                                             \r"
     ]
    },
    {
     "name": "stdout",
     "output_type": "stream",
     "text": [
      "Rank: 0, Epoch: 1/100, Train Loss=0.0257010758, Val Loss=1.2279633491244194e+20, LR=0.0025\n"
     ]
    },
    {
     "name": "stderr",
     "output_type": "stream",
     "text": [
      "                                                             \r"
     ]
    },
    {
     "name": "stdout",
     "output_type": "stream",
     "text": [
      "Rank: 0, Epoch: 2/100, Train Loss=6.926428318, Val Loss=2.6353323166894878e+31, LR=0.0025\n"
     ]
    },
    {
     "name": "stderr",
     "output_type": "stream",
     "text": [
      "                                                             \r"
     ]
    },
    {
     "name": "stdout",
     "output_type": "stream",
     "text": [
      "Rank: 0, Epoch: 3/100, Train Loss=9.9015951157, Val Loss=2.9392226218238884e+28, LR=0.0025\n"
     ]
    },
    {
     "name": "stderr",
     "output_type": "stream",
     "text": [
      "                                                             \r"
     ]
    },
    {
     "name": "stdout",
     "output_type": "stream",
     "text": [
      "Rank: 0, Epoch: 4/100, Train Loss=1.1656563282, Val Loss=7.437615054315723e+26, LR=0.0025\n"
     ]
    },
    {
     "name": "stderr",
     "output_type": "stream",
     "text": [
      "                                                             \r"
     ]
    },
    {
     "name": "stdout",
     "output_type": "stream",
     "text": [
      "Rank: 0, Epoch: 5/100, Train Loss=0.9535938501, Val Loss=8.446857786223853e+22, LR=0.0025\n"
     ]
    },
    {
     "name": "stderr",
     "output_type": "stream",
     "text": [
      "                                                             \r"
     ]
    },
    {
     "name": "stdout",
     "output_type": "stream",
     "text": [
      "Rank: 0, Epoch: 6/100, Train Loss=0.48255831, Val Loss=1.29447661729638e+18, LR=0.0025\n"
     ]
    },
    {
     "name": "stderr",
     "output_type": "stream",
     "text": [
      "                                                             \r"
     ]
    },
    {
     "name": "stdout",
     "output_type": "stream",
     "text": [
      "Rank: 0, Epoch: 7/100, Train Loss=0.2795668542, Val Loss=188651237539840.0, LR=0.0025\n"
     ]
    },
    {
     "name": "stderr",
     "output_type": "stream",
     "text": [
      "                                                             \r"
     ]
    },
    {
     "name": "stdout",
     "output_type": "stream",
     "text": [
      "Rank: 0, Epoch: 8/100, Train Loss=0.1487710178, Val Loss=714119774208.0, LR=0.0025\n"
     ]
    },
    {
     "name": "stderr",
     "output_type": "stream",
     "text": [
      "                                                             \r"
     ]
    },
    {
     "name": "stdout",
     "output_type": "stream",
     "text": [
      "Rank: 0, Epoch: 9/100, Train Loss=0.0806876943, Val Loss=3289924864.0, LR=0.0025\n"
     ]
    },
    {
     "name": "stderr",
     "output_type": "stream",
     "text": [
      "                                                             \r"
     ]
    },
    {
     "name": "stdout",
     "output_type": "stream",
     "text": [
      "Rank: 0, Epoch: 10/100, Train Loss=0.0549104735, Val Loss=85504600.0, LR=0.0025\n"
     ]
    },
    {
     "name": "stderr",
     "output_type": "stream",
     "text": [
      "                                                             \r"
     ]
    },
    {
     "name": "stdout",
     "output_type": "stream",
     "text": [
      "Rank: 0, Epoch: 11/100, Train Loss=0.0385364257, Val Loss=2227692.5, LR=0.0025\n"
     ]
    },
    {
     "name": "stderr",
     "output_type": "stream",
     "text": [
      "                                                             \r"
     ]
    },
    {
     "name": "stdout",
     "output_type": "stream",
     "text": [
      "Rank: 0, Epoch: 12/100, Train Loss=0.0342120752, Val Loss=182356.953125, LR=0.0025\n"
     ]
    },
    {
     "name": "stderr",
     "output_type": "stream",
     "text": [
      "                                                             \r"
     ]
    },
    {
     "name": "stdout",
     "output_type": "stream",
     "text": [
      "Rank: 0, Epoch: 13/100, Train Loss=0.0326076634, Val Loss=13678.7626953125, LR=0.0025\n"
     ]
    },
    {
     "name": "stderr",
     "output_type": "stream",
     "text": [
      "                                                             \r"
     ]
    },
    {
     "name": "stdout",
     "output_type": "stream",
     "text": [
      "Rank: 0, Epoch: 14/100, Train Loss=0.027856715, Val Loss=2010.7933349609, LR=0.0025\n"
     ]
    },
    {
     "name": "stderr",
     "output_type": "stream",
     "text": [
      "                                                             \r"
     ]
    },
    {
     "name": "stdout",
     "output_type": "stream",
     "text": [
      "Rank: 0, Epoch: 15/100, Train Loss=0.0263134055, Val Loss=323.2055053711, LR=0.0025\n"
     ]
    },
    {
     "name": "stderr",
     "output_type": "stream",
     "text": [
      "                                                             \r"
     ]
    },
    {
     "name": "stdout",
     "output_type": "stream",
     "text": [
      "Rank: 0, Epoch: 16/100, Train Loss=0.0256289355, Val Loss=77.7684783936, LR=0.0025\n"
     ]
    },
    {
     "name": "stderr",
     "output_type": "stream",
     "text": [
      "                                                             \r"
     ]
    },
    {
     "name": "stdout",
     "output_type": "stream",
     "text": [
      "Rank: 0, Epoch: 17/100, Train Loss=0.0252475366, Val Loss=19.3886489868, LR=0.0025\n"
     ]
    },
    {
     "name": "stderr",
     "output_type": "stream",
     "text": [
      "                                                             \r"
     ]
    },
    {
     "name": "stdout",
     "output_type": "stream",
     "text": [
      "Rank: 0, Epoch: 18/100, Train Loss=0.0250044521, Val Loss=6.5670938492, LR=0.0025\n"
     ]
    },
    {
     "name": "stderr",
     "output_type": "stream",
     "text": [
      "                                                             \r"
     ]
    },
    {
     "name": "stdout",
     "output_type": "stream",
     "text": [
      "Rank: 0, Epoch: 19/100, Train Loss=0.0248293113, Val Loss=2.1871137619, LR=0.0025\n"
     ]
    },
    {
     "name": "stderr",
     "output_type": "stream",
     "text": [
      "                                                             \r"
     ]
    },
    {
     "name": "stdout",
     "output_type": "stream",
     "text": [
      "Rank: 0, Epoch: 20/100, Train Loss=0.0250398256, Val Loss=0.912312448, LR=0.0025\n"
     ]
    },
    {
     "name": "stderr",
     "output_type": "stream",
     "text": [
      "                                                             \r"
     ]
    },
    {
     "name": "stdout",
     "output_type": "stream",
     "text": [
      "Rank: 0, Epoch: 21/100, Train Loss=0.0251731072, Val Loss=0.6044101715, LR=0.0025\n"
     ]
    },
    {
     "name": "stderr",
     "output_type": "stream",
     "text": [
      "                                                             \r"
     ]
    },
    {
     "name": "stdout",
     "output_type": "stream",
     "text": [
      "Rank: 0, Epoch: 22/100, Train Loss=0.0245937873, Val Loss=0.2222532779, LR=0.0025\n"
     ]
    },
    {
     "name": "stderr",
     "output_type": "stream",
     "text": [
      "                                                             \r"
     ]
    },
    {
     "name": "stdout",
     "output_type": "stream",
     "text": [
      "Rank: 0, Epoch: 23/100, Train Loss=0.0244558938, Val Loss=0.10499423, LR=0.0025\n"
     ]
    },
    {
     "name": "stderr",
     "output_type": "stream",
     "text": [
      "                                                             \r"
     ]
    },
    {
     "name": "stdout",
     "output_type": "stream",
     "text": [
      "Rank: 0, Epoch: 24/100, Train Loss=0.024362335, Val Loss=0.0554794557, LR=0.0025\n"
     ]
    },
    {
     "name": "stderr",
     "output_type": "stream",
     "text": [
      "                                                             \r"
     ]
    },
    {
     "name": "stdout",
     "output_type": "stream",
     "text": [
      "Rank: 0, Epoch: 25/100, Train Loss=0.024288699, Val Loss=0.0386356525, LR=0.0025\n"
     ]
    },
    {
     "name": "stderr",
     "output_type": "stream",
     "text": [
      "                                                             \r"
     ]
    },
    {
     "name": "stdout",
     "output_type": "stream",
     "text": [
      "Rank: 0, Epoch: 26/100, Train Loss=0.0242217295, Val Loss=0.0304564722, LR=0.0025\n"
     ]
    },
    {
     "name": "stderr",
     "output_type": "stream",
     "text": [
      "                                                             \r"
     ]
    },
    {
     "name": "stdout",
     "output_type": "stream",
     "text": [
      "Rank: 0, Epoch: 27/100, Train Loss=0.0241662916, Val Loss=0.0275333896, LR=0.0025\n"
     ]
    },
    {
     "name": "stderr",
     "output_type": "stream",
     "text": [
      "                                                             \r"
     ]
    },
    {
     "name": "stdout",
     "output_type": "stream",
     "text": [
      "Rank: 0, Epoch: 28/100, Train Loss=0.0241305679, Val Loss=0.0259315893, LR=0.0025\n"
     ]
    },
    {
     "name": "stderr",
     "output_type": "stream",
     "text": [
      "                                                             \r"
     ]
    },
    {
     "name": "stdout",
     "output_type": "stream",
     "text": [
      "Rank: 0, Epoch: 29/100, Train Loss=0.0240728445, Val Loss=0.0253283717, LR=0.0025\n"
     ]
    },
    {
     "name": "stderr",
     "output_type": "stream",
     "text": [
      "                                                             \r"
     ]
    },
    {
     "name": "stdout",
     "output_type": "stream",
     "text": [
      "Rank: 0, Epoch: 30/100, Train Loss=0.0249750149, Val Loss=0.0250218641, LR=0.0025\n"
     ]
    },
    {
     "name": "stderr",
     "output_type": "stream",
     "text": [
      "                                                             \r"
     ]
    },
    {
     "name": "stdout",
     "output_type": "stream",
     "text": [
      "Rank: 0, Epoch: 31/100, Train Loss=0.0260961298, Val Loss=0.0248445719, LR=0.0025\n"
     ]
    },
    {
     "name": "stderr",
     "output_type": "stream",
     "text": [
      "                                                             \r"
     ]
    },
    {
     "name": "stdout",
     "output_type": "stream",
     "text": [
      "Rank: 0, Epoch: 32/100, Train Loss=0.0249280222, Val Loss=0.0246848837, LR=0.0025\n"
     ]
    },
    {
     "name": "stderr",
     "output_type": "stream",
     "text": [
      "                                                             \r"
     ]
    },
    {
     "name": "stdout",
     "output_type": "stream",
     "text": [
      "Rank: 0, Epoch: 33/100, Train Loss=0.02439964, Val Loss=0.0245575812, LR=0.0025\n"
     ]
    },
    {
     "name": "stderr",
     "output_type": "stream",
     "text": [
      "                                                             \r"
     ]
    },
    {
     "name": "stdout",
     "output_type": "stream",
     "text": [
      "Rank: 0, Epoch: 34/100, Train Loss=0.0241438374, Val Loss=0.0244886614, LR=0.0025\n"
     ]
    },
    {
     "name": "stderr",
     "output_type": "stream",
     "text": [
      "                                                             \r"
     ]
    },
    {
     "name": "stdout",
     "output_type": "stream",
     "text": [
      "Rank: 0, Epoch: 35/100, Train Loss=0.0240063798, Val Loss=0.0244329423, LR=0.0025\n"
     ]
    },
    {
     "name": "stderr",
     "output_type": "stream",
     "text": [
      "                                                             \r"
     ]
    },
    {
     "name": "stdout",
     "output_type": "stream",
     "text": [
      "Rank: 0, Epoch: 36/100, Train Loss=0.0239251368, Val Loss=0.0245456323, LR=0.0025\n"
     ]
    },
    {
     "name": "stderr",
     "output_type": "stream",
     "text": [
      "                                                             \r"
     ]
    },
    {
     "name": "stdout",
     "output_type": "stream",
     "text": [
      "Rank: 0, Epoch: 37/100, Train Loss=0.0238749292, Val Loss=0.0244008321, LR=0.0025\n"
     ]
    },
    {
     "name": "stderr",
     "output_type": "stream",
     "text": [
      "                                                             \r"
     ]
    },
    {
     "name": "stdout",
     "output_type": "stream",
     "text": [
      "Rank: 0, Epoch: 38/100, Train Loss=0.023840677, Val Loss=0.0243715439, LR=0.0025\n"
     ]
    },
    {
     "name": "stderr",
     "output_type": "stream",
     "text": [
      "                                                             \r"
     ]
    },
    {
     "name": "stdout",
     "output_type": "stream",
     "text": [
      "Rank: 0, Epoch: 39/100, Train Loss=0.0238139257, Val Loss=0.0243229084, LR=0.0025\n"
     ]
    },
    {
     "name": "stderr",
     "output_type": "stream",
     "text": [
      "                                                             \r"
     ]
    },
    {
     "name": "stdout",
     "output_type": "stream",
     "text": [
      "Rank: 0, Epoch: 40/100, Train Loss=0.0238047726, Val Loss=0.0243078806, LR=0.0025\n"
     ]
    },
    {
     "name": "stderr",
     "output_type": "stream",
     "text": [
      "                                                             \r"
     ]
    },
    {
     "name": "stdout",
     "output_type": "stream",
     "text": [
      "Rank: 0, Epoch: 41/100, Train Loss=0.0238095634, Val Loss=0.0242957529, LR=0.0025\n"
     ]
    },
    {
     "name": "stderr",
     "output_type": "stream",
     "text": [
      "                                                             \r"
     ]
    },
    {
     "name": "stdout",
     "output_type": "stream",
     "text": [
      "Rank: 0, Epoch: 42/100, Train Loss=0.0238823388, Val Loss=0.0242474712, LR=0.0025\n"
     ]
    },
    {
     "name": "stderr",
     "output_type": "stream",
     "text": [
      "                                                             \r"
     ]
    },
    {
     "name": "stdout",
     "output_type": "stream",
     "text": [
      "Rank: 0, Epoch: 43/100, Train Loss=0.0239073299, Val Loss=0.0243587922, LR=0.0025\n"
     ]
    },
    {
     "name": "stderr",
     "output_type": "stream",
     "text": [
      "                                                             \r"
     ]
    },
    {
     "name": "stdout",
     "output_type": "stream",
     "text": [
      "Rank: 0, Epoch: 44/100, Train Loss=0.0238885693, Val Loss=0.024455769, LR=0.0025\n"
     ]
    },
    {
     "name": "stderr",
     "output_type": "stream",
     "text": [
      "                                                             \r"
     ]
    },
    {
     "name": "stdout",
     "output_type": "stream",
     "text": [
      "Rank: 0, Epoch: 45/100, Train Loss=0.0239635631, Val Loss=0.0242570098, LR=0.0025\n"
     ]
    },
    {
     "name": "stderr",
     "output_type": "stream",
     "text": [
      "                                                             \r"
     ]
    },
    {
     "name": "stdout",
     "output_type": "stream",
     "text": [
      "Rank: 0, Epoch: 46/100, Train Loss=0.0241872203, Val Loss=0.0248411242, LR=0.0025\n"
     ]
    },
    {
     "name": "stderr",
     "output_type": "stream",
     "text": [
      "                                                             \r"
     ]
    },
    {
     "name": "stdout",
     "output_type": "stream",
     "text": [
      "Rank: 0, Epoch: 47/100, Train Loss=0.0241873395, Val Loss=0.02454626, LR=0.0025\n"
     ]
    },
    {
     "name": "stderr",
     "output_type": "stream",
     "text": [
      "                                                             \r"
     ]
    },
    {
     "name": "stdout",
     "output_type": "stream",
     "text": [
      "Rank: 0, Epoch: 48/100, Train Loss=0.0243332516, Val Loss=0.0252883527, LR=0.0025\n"
     ]
    },
    {
     "name": "stderr",
     "output_type": "stream",
     "text": [
      "                                                             \r"
     ]
    },
    {
     "name": "stdout",
     "output_type": "stream",
     "text": [
      "Rank: 0, Epoch: 49/100, Train Loss=0.0245466344, Val Loss=0.0248964652, LR=0.0025\n"
     ]
    },
    {
     "name": "stderr",
     "output_type": "stream",
     "text": [
      "                                                             \r"
     ]
    },
    {
     "name": "stdout",
     "output_type": "stream",
     "text": [
      "Rank: 0, Epoch: 50/100, Train Loss=0.0248736404, Val Loss=0.0265970957, LR=0.0025\n"
     ]
    },
    {
     "name": "stderr",
     "output_type": "stream",
     "text": [
      "                                                             \r"
     ]
    },
    {
     "name": "stdout",
     "output_type": "stream",
     "text": [
      "Rank: 0, Epoch: 51/100, Train Loss=0.0253083743, Val Loss=0.0250379872, LR=0.0025\n"
     ]
    },
    {
     "name": "stderr",
     "output_type": "stream",
     "text": [
      "                                                             \r"
     ]
    },
    {
     "name": "stdout",
     "output_type": "stream",
     "text": [
      "Rank: 0, Epoch: 52/100, Train Loss=0.0258653853, Val Loss=0.0500285327, LR=0.0025\n"
     ]
    },
    {
     "name": "stderr",
     "output_type": "stream",
     "text": [
      "                                                             \r"
     ]
    },
    {
     "name": "stdout",
     "output_type": "stream",
     "text": [
      "Rank: 0, Epoch: 53/100, Train Loss=0.0262013972, Val Loss=0.0287676193, LR=0.0025\n"
     ]
    },
    {
     "name": "stderr",
     "output_type": "stream",
     "text": [
      "                                                             \r"
     ]
    },
    {
     "name": "stdout",
     "output_type": "stream",
     "text": [
      "Rank: 0, Epoch: 54/100, Train Loss=0.0264793765, Val Loss=0.033565823, LR=0.0025\n"
     ]
    },
    {
     "name": "stderr",
     "output_type": "stream",
     "text": [
      "                                                             \r"
     ]
    },
    {
     "name": "stdout",
     "output_type": "stream",
     "text": [
      "Rank: 0, Epoch: 55/100, Train Loss=0.0266121924, Val Loss=0.0274995007, LR=0.0025\n"
     ]
    },
    {
     "name": "stderr",
     "output_type": "stream",
     "text": [
      "                                                             \r"
     ]
    },
    {
     "name": "stdout",
     "output_type": "stream",
     "text": [
      "Rank: 0, Epoch: 56/100, Train Loss=0.0266755633, Val Loss=0.0303891506, LR=0.0025\n"
     ]
    },
    {
     "name": "stderr",
     "output_type": "stream",
     "text": [
      "                                                             \r"
     ]
    },
    {
     "name": "stdout",
     "output_type": "stream",
     "text": [
      "Rank: 0, Epoch: 57/100, Train Loss=0.0265973918, Val Loss=0.0269216504, LR=0.0025\n"
     ]
    },
    {
     "name": "stderr",
     "output_type": "stream",
     "text": [
      "                                                             \r"
     ]
    },
    {
     "name": "stdout",
     "output_type": "stream",
     "text": [
      "Rank: 0, Epoch: 58/100, Train Loss=0.0266873427, Val Loss=0.0301873665, LR=0.0025\n"
     ]
    },
    {
     "name": "stderr",
     "output_type": "stream",
     "text": [
      "                                                             \r"
     ]
    },
    {
     "name": "stdout",
     "output_type": "stream",
     "text": [
      "Rank: 0, Epoch: 59/100, Train Loss=0.0262399893, Val Loss=0.0267530791, LR=0.0025\n"
     ]
    },
    {
     "name": "stderr",
     "output_type": "stream",
     "text": [
      "                                                             \r"
     ]
    },
    {
     "name": "stdout",
     "output_type": "stream",
     "text": [
      "Rank: 0, Epoch: 60/100, Train Loss=0.0257092491, Val Loss=0.0281464923, LR=0.0025\n"
     ]
    },
    {
     "name": "stderr",
     "output_type": "stream",
     "text": [
      "                                                             \r"
     ]
    },
    {
     "name": "stdout",
     "output_type": "stream",
     "text": [
      "Rank: 0, Epoch: 61/100, Train Loss=0.0251274984, Val Loss=0.0253598634, LR=0.0025\n"
     ]
    },
    {
     "name": "stderr",
     "output_type": "stream",
     "text": [
      "                                                             \r"
     ]
    },
    {
     "name": "stdout",
     "output_type": "stream",
     "text": [
      "Rank: 0, Epoch: 62/100, Train Loss=0.0247453768, Val Loss=0.0266987849, LR=0.0025\n"
     ]
    },
    {
     "name": "stderr",
     "output_type": "stream",
     "text": [
      "                                                             \r"
     ]
    },
    {
     "name": "stdout",
     "output_type": "stream",
     "text": [
      "Rank: 0, Epoch: 63/100, Train Loss=0.024532143, Val Loss=0.0253457334, LR=0.0025\n"
     ]
    },
    {
     "name": "stderr",
     "output_type": "stream",
     "text": [
      "                                                             \r"
     ]
    },
    {
     "name": "stdout",
     "output_type": "stream",
     "text": [
      "Rank: 0, Epoch: 64/100, Train Loss=0.0245789327, Val Loss=0.0251539163, LR=0.0025\n"
     ]
    },
    {
     "name": "stderr",
     "output_type": "stream",
     "text": [
      "                                                             \r"
     ]
    },
    {
     "name": "stdout",
     "output_type": "stream",
     "text": [
      "Rank: 0, Epoch: 65/100, Train Loss=0.0245086662, Val Loss=0.4328583479, LR=0.0025\n"
     ]
    },
    {
     "name": "stderr",
     "output_type": "stream",
     "text": [
      "                                                             \r"
     ]
    },
    {
     "name": "stdout",
     "output_type": "stream",
     "text": [
      "Rank: 0, Epoch: 66/100, Train Loss=0.0249127597, Val Loss=0.0246997364, LR=0.0025\n"
     ]
    },
    {
     "name": "stderr",
     "output_type": "stream",
     "text": [
      "                                                             \r"
     ]
    },
    {
     "name": "stdout",
     "output_type": "stream",
     "text": [
      "Rank: 0, Epoch: 67/100, Train Loss=0.0258566979, Val Loss=0.0417256244, LR=0.0025\n"
     ]
    },
    {
     "name": "stderr",
     "output_type": "stream",
     "text": [
      "                                                             \r"
     ]
    },
    {
     "name": "stdout",
     "output_type": "stream",
     "text": [
      "Rank: 0, Epoch: 68/100, Train Loss=0.025573412, Val Loss=0.0454158448, LR=0.0025\n"
     ]
    },
    {
     "name": "stderr",
     "output_type": "stream",
     "text": [
      "                                                             \r"
     ]
    },
    {
     "name": "stdout",
     "output_type": "stream",
     "text": [
      "Rank: 0, Epoch: 69/100, Train Loss=0.0255879592, Val Loss=0.0422543548, LR=0.0025\n"
     ]
    },
    {
     "name": "stderr",
     "output_type": "stream",
     "text": [
      "                                                             \r"
     ]
    },
    {
     "name": "stdout",
     "output_type": "stream",
     "text": [
      "Rank: 0, Epoch: 70/100, Train Loss=0.0256820582, Val Loss=0.0371368751, LR=0.0025\n"
     ]
    },
    {
     "name": "stderr",
     "output_type": "stream",
     "text": [
      "                                                             \r"
     ]
    },
    {
     "name": "stdout",
     "output_type": "stream",
     "text": [
      "Rank: 0, Epoch: 71/100, Train Loss=0.0258809775, Val Loss=0.041625455, LR=0.0025\n"
     ]
    },
    {
     "name": "stderr",
     "output_type": "stream",
     "text": [
      "                                                             \r"
     ]
    },
    {
     "name": "stdout",
     "output_type": "stream",
     "text": [
      "Rank: 0, Epoch: 72/100, Train Loss=0.0263661873, Val Loss=0.0400287807, LR=0.0025\n"
     ]
    },
    {
     "name": "stderr",
     "output_type": "stream",
     "text": [
      "                                                             \r"
     ]
    },
    {
     "name": "stdout",
     "output_type": "stream",
     "text": [
      "Rank: 0, Epoch: 73/100, Train Loss=0.027760677, Val Loss=0.0699893013, LR=0.0025\n"
     ]
    },
    {
     "name": "stderr",
     "output_type": "stream",
     "text": [
      "                                                             \r"
     ]
    },
    {
     "name": "stdout",
     "output_type": "stream",
     "text": [
      "Rank: 0, Epoch: 74/100, Train Loss=0.0292200278, Val Loss=0.0486209542, LR=0.0025\n"
     ]
    },
    {
     "name": "stderr",
     "output_type": "stream",
     "text": [
      "                                                             \r"
     ]
    },
    {
     "name": "stdout",
     "output_type": "stream",
     "text": [
      "Rank: 0, Epoch: 75/100, Train Loss=0.0306412578, Val Loss=0.1434617043, LR=0.0025\n"
     ]
    },
    {
     "name": "stderr",
     "output_type": "stream",
     "text": [
      "                                                             \r"
     ]
    },
    {
     "name": "stdout",
     "output_type": "stream",
     "text": [
      "Rank: 0, Epoch: 76/100, Train Loss=0.032482855, Val Loss=0.0977180004, LR=0.0025\n"
     ]
    },
    {
     "name": "stderr",
     "output_type": "stream",
     "text": [
      "                                                             \r"
     ]
    },
    {
     "name": "stdout",
     "output_type": "stream",
     "text": [
      "Rank: 0, Epoch: 77/100, Train Loss=0.0341683291, Val Loss=0.1691979468, LR=0.0025\n"
     ]
    },
    {
     "name": "stderr",
     "output_type": "stream",
     "text": [
      "                                                             \r"
     ]
    },
    {
     "name": "stdout",
     "output_type": "stream",
     "text": [
      "Rank: 0, Epoch: 78/100, Train Loss=0.0354446881, Val Loss=0.1238690391, LR=0.0025\n"
     ]
    },
    {
     "name": "stderr",
     "output_type": "stream",
     "text": [
      "                                                             \r"
     ]
    },
    {
     "name": "stdout",
     "output_type": "stream",
     "text": [
      "Rank: 0, Epoch: 79/100, Train Loss=0.0375769772, Val Loss=0.3219181597, LR=0.0025\n"
     ]
    },
    {
     "name": "stderr",
     "output_type": "stream",
     "text": [
      "                                                             \r"
     ]
    },
    {
     "name": "stdout",
     "output_type": "stream",
     "text": [
      "Rank: 0, Epoch: 80/100, Train Loss=0.0389873646, Val Loss=0.119902581, LR=0.0025\n"
     ]
    },
    {
     "name": "stderr",
     "output_type": "stream",
     "text": [
      "                                                             \r"
     ]
    },
    {
     "name": "stdout",
     "output_type": "stream",
     "text": [
      "Rank: 0, Epoch: 81/100, Train Loss=0.0389678888, Val Loss=2.2496063709, LR=0.0025\n"
     ]
    },
    {
     "name": "stderr",
     "output_type": "stream",
     "text": [
      "                                                             \r"
     ]
    },
    {
     "name": "stdout",
     "output_type": "stream",
     "text": [
      "Rank: 0, Epoch: 82/100, Train Loss=0.045191355, Val Loss=0.2660716772, LR=0.0025\n"
     ]
    },
    {
     "name": "stderr",
     "output_type": "stream",
     "text": [
      "                                                             \r"
     ]
    },
    {
     "name": "stdout",
     "output_type": "stream",
     "text": [
      "Rank: 0, Epoch: 83/100, Train Loss=0.0479683504, Val Loss=2.434094429, LR=0.0025\n"
     ]
    },
    {
     "name": "stderr",
     "output_type": "stream",
     "text": [
      "                                                             \r"
     ]
    },
    {
     "name": "stdout",
     "output_type": "stream",
     "text": [
      "Rank: 0, Epoch: 84/100, Train Loss=0.0448819585, Val Loss=0.4156571627, LR=0.0025\n"
     ]
    },
    {
     "name": "stderr",
     "output_type": "stream",
     "text": [
      "                                                             \r"
     ]
    },
    {
     "name": "stdout",
     "output_type": "stream",
     "text": [
      "Rank: 0, Epoch: 85/100, Train Loss=0.0436720699, Val Loss=1.1834439039, LR=0.0025\n"
     ]
    },
    {
     "name": "stderr",
     "output_type": "stream",
     "text": [
      "                                                             \r"
     ]
    },
    {
     "name": "stdout",
     "output_type": "stream",
     "text": [
      "Rank: 0, Epoch: 86/100, Train Loss=0.0435781777, Val Loss=0.1109273285, LR=0.0025\n"
     ]
    },
    {
     "name": "stderr",
     "output_type": "stream",
     "text": [
      "                                                             \r"
     ]
    },
    {
     "name": "stdout",
     "output_type": "stream",
     "text": [
      "Rank: 0, Epoch: 87/100, Train Loss=0.0442910343, Val Loss=2.105951786, LR=0.0025\n"
     ]
    },
    {
     "name": "stderr",
     "output_type": "stream",
     "text": [
      "                                                             \r"
     ]
    },
    {
     "name": "stdout",
     "output_type": "stream",
     "text": [
      "Rank: 0, Epoch: 88/100, Train Loss=0.0444954261, Val Loss=1.0658786297, LR=0.0025\n"
     ]
    },
    {
     "name": "stderr",
     "output_type": "stream",
     "text": [
      "                                                             \r"
     ]
    },
    {
     "name": "stdout",
     "output_type": "stream",
     "text": [
      "Rank: 0, Epoch: 89/100, Train Loss=0.0442397445, Val Loss=0.4759064019, LR=0.0025\n"
     ]
    },
    {
     "name": "stderr",
     "output_type": "stream",
     "text": [
      "                                                             \r"
     ]
    },
    {
     "name": "stdout",
     "output_type": "stream",
     "text": [
      "Rank: 0, Epoch: 90/100, Train Loss=0.0439704992, Val Loss=0.3168637753, LR=0.0025\n"
     ]
    },
    {
     "name": "stderr",
     "output_type": "stream",
     "text": [
      "                                                             \r"
     ]
    },
    {
     "name": "stdout",
     "output_type": "stream",
     "text": [
      "Rank: 0, Epoch: 91/100, Train Loss=0.0439491235, Val Loss=0.2997559309, LR=0.0025\n"
     ]
    },
    {
     "name": "stderr",
     "output_type": "stream",
     "text": [
      "                                                             \r"
     ]
    },
    {
     "name": "stdout",
     "output_type": "stream",
     "text": [
      "Rank: 0, Epoch: 92/100, Train Loss=0.0446162485, Val Loss=0.1408509761, LR=0.0025\n"
     ]
    },
    {
     "name": "stderr",
     "output_type": "stream",
     "text": [
      "                                                             \r"
     ]
    },
    {
     "name": "stdout",
     "output_type": "stream",
     "text": [
      "Rank: 0, Epoch: 93/100, Train Loss=0.0482899807, Val Loss=0.5460144877, LR=0.0025\n"
     ]
    },
    {
     "name": "stderr",
     "output_type": "stream",
     "text": [
      "                                                             \r"
     ]
    },
    {
     "name": "stdout",
     "output_type": "stream",
     "text": [
      "Rank: 0, Epoch: 94/100, Train Loss=0.0542255901, Val Loss=0.0962792933, LR=0.0025\n"
     ]
    },
    {
     "name": "stderr",
     "output_type": "stream",
     "text": [
      "                                                             \r"
     ]
    },
    {
     "name": "stdout",
     "output_type": "stream",
     "text": [
      "Rank: 0, Epoch: 95/100, Train Loss=0.0550809801, Val Loss=0.3893091679, LR=0.0025\n"
     ]
    },
    {
     "name": "stderr",
     "output_type": "stream",
     "text": [
      "                                                             \r"
     ]
    },
    {
     "name": "stdout",
     "output_type": "stream",
     "text": [
      "Rank: 0, Epoch: 96/100, Train Loss=0.0592376478, Val Loss=0.3100401163, LR=0.0025\n"
     ]
    },
    {
     "name": "stderr",
     "output_type": "stream",
     "text": [
      "                                                             \r"
     ]
    },
    {
     "name": "stdout",
     "output_type": "stream",
     "text": [
      "Rank: 0, Epoch: 97/100, Train Loss=0.0576453805, Val Loss=0.9344854355, LR=0.0025\n"
     ]
    },
    {
     "name": "stderr",
     "output_type": "stream",
     "text": [
      "                                                             \r"
     ]
    },
    {
     "name": "stdout",
     "output_type": "stream",
     "text": [
      "Rank: 0, Epoch: 98/100, Train Loss=0.0547610819, Val Loss=0.1059865355, LR=0.0025\n"
     ]
    },
    {
     "name": "stderr",
     "output_type": "stream",
     "text": [
      "                                                             \r"
     ]
    },
    {
     "name": "stdout",
     "output_type": "stream",
     "text": [
      "Rank: 0, Epoch: 99/100, Train Loss=0.0509563759, Val Loss=4.2329216003, LR=0.0025\n"
     ]
    },
    {
     "name": "stderr",
     "output_type": "stream",
     "text": [
      "                                                             "
     ]
    },
    {
     "name": "stdout",
     "output_type": "stream",
     "text": [
      "Rank: 0, Epoch: 100/100, Train Loss=0.0464323312, Val Loss=0.1941533387, LR=0.0025\n"
     ]
    },
    {
     "name": "stderr",
     "output_type": "stream",
     "text": [
      "\r"
     ]
    }
   ],
   "source": [
    "from FreiHAND import FreiHAND \n",
    "from StackedHourGlass import StackedHourGlass \n",
    "from Trainer import Trainer\n",
    "import torchvision as TF\n",
    "device = torch.device(\"cuda\")\n",
    "\n",
    "config = {\n",
    "    \"data_dir\": \"./\",\n",
    "    \"epochs\": 100,\n",
    "    \"batch_size\": 10,\n",
    "    \"learning_rate\": 0.0025,\n",
    "    \"batches_per_epoch\": 1,\n",
    "    \"batches_per_epoch_val\": 1,\n",
    "    \"device\": device\n",
    "}\n",
    "\n",
    "#Initialize training dataset\n",
    "train_dataset = FreiHAND(config=config, set_type=\"train\")\n",
    "train_dataloader = DataLoader(\n",
    "    train_dataset,\n",
    "    config[\"batch_size\"],\n",
    "    num_workers=4,\n",
    "    shuffle=True,\n",
    "    pin_memory=True\n",
    ")\n",
    "\n",
    "#Initialize validation dataset\n",
    "val_dataset = FreiHAND(config=config, set_type=\"val\")\n",
    "val_dataloader = DataLoader(\n",
    "    val_dataset,\n",
    "    config[\"batch_size\"],\n",
    "    num_workers=4,\n",
    "    shuffle=True,\n",
    "    pin_memory=True\n",
    ")\n",
    "\n",
    "#Initialize loss, optimizer, and scheduler\n",
    "loss_fn = nn.MSELoss()\n",
    "optimizer = optim.RMSprop(model.parameters(), lr=config[\"learning_rate\"])\n",
    "scheduler = optim.lr_scheduler.ReduceLROnPlateau(\n",
    "    optimizer=optimizer, factor = 0.2, patience=10, verbose=True\n",
    ") \n",
    "trainer = Trainer(model, optimizer, loss_fn, device, lambda x: (x[\"image\"], x[\"heatmaps\"]), epochs = config[\"epochs\"], early_stop=False,epoch_load_bar=True,checkpoint_frequency=10000)\n",
    "trainer.train(train_dataloader, val_dataloader)"
   ]
  },
  {
   "cell_type": "code",
   "execution_count": null,
   "metadata": {},
   "outputs": [],
   "source": []
  },
  {
   "cell_type": "code",
   "execution_count": null,
   "metadata": {},
   "outputs": [],
   "source": [
    "def show_batch_predictions(batch_data, model):\n",
    "    inputs = batch_data[\"image\"]\n",
    "    true_keypoints = batch_data[\"keypoints\"].numpy()\n",
    "    batch_size = true_keypoints.shape[0]\n",
    "    pred_heatmaps = model(inputs)\n",
    "    pred_heatmaps = pred_heatmaps.detach().numpy()\n",
    "    pred_keypoints = heatmaps_to_coordinates(pred_heatmaps)\n",
    "    images = batch_data[\"image_raw\"].numpy()\n",
    "    images = np.moveaxis(images, 1, -1)\n",
    "\n",
    "    plt.figure(figsize=[12, 4 *batch_size])\n",
    "    for i in range(batch_size):\n",
    "        image = images[i]\n",
    "        true_keypoints_img = true_keypoints[i] * RAW_IMG_SIZE\n",
    "        pred_keypoints_img = pred_keypoints[i] * RAW_IMG_SIZE\n",
    "\n",
    "        plt.subplot(batch_size, 3, i * 3 + 1)\n",
    "        plt.imshow(image)\n",
    "        plt.title(\"Image\")\n",
    "        plt.axis(\"off\")\n",
    "\n",
    "        plt.subplot(batch_size, 3, i * 3 + 2)\n",
    "        plt.imshow(image)\n",
    "        for finger, params in COLORMAP.items():\n",
    "            plt.plot(\n",
    "                true_keypoints_img[params[\"ids\"], 0],\n",
    "                true_keypoints_img[params[\"ids\"], 1],\n",
    "                params[\"color\"],\n",
    "            )\n",
    "        plt.title(\"True Keypoints\")\n",
    "        plt.axis(\"off\")\n",
    "\n",
    "        plt.subplot(batch_size, 3, i * 3 + 3)\n",
    "        plt.imshow(image)\n",
    "        for finger, params in COLORMAP.items():\n",
    "            plt.plot(\n",
    "                pred_keypoints_img[params[\"ids\"], 0],\n",
    "                pred_keypoints_img[params[\"ids\"], 1],\n",
    "                params[\"color\"],\n",
    "            )\n",
    "        plt.title(\"Pred Keypoints\")\n",
    "        plt.axis(\"off\")\n",
    "    plt.tight_layout()\n",
    "def heatmaps_to_coordinates(heatmaps):\n",
    "    \"\"\"\n",
    "    Heatmaps is a numpy array\n",
    "    Its size - (batch_size, n_keypoints, img_size, img_size)\n",
    "    \"\"\"\n",
    "    batch_size = heatmaps.shape[0]\n",
    "    sums = heatmaps.sum(axis=-1).sum(axis=-1)\n",
    "    sums = np.expand_dims(sums, [2, 3])\n",
    "    normalized = heatmaps / sums\n",
    "    x_prob = normalized.sum(axis=2)\n",
    "    y_prob = normalized.sum(axis=3)\n",
    "\n",
    "    arr = np.tile(np.float32(np.arange(0, 128)), [batch_size, 21, 1])\n",
    "    x = (arr * x_prob).sum(axis=2)\n",
    "    y = (arr * y_prob).sum(axis=2)\n",
    "    keypoints = np.stack([x, y], axis=-1)\n",
    "    return keypoints / 128"
   ]
  },
  {
   "cell_type": "code",
   "execution_count": null,
   "metadata": {},
   "outputs": [
    {
     "name": "stderr",
     "output_type": "stream",
     "text": [
      "Traceback (most recent call last):\n",
      "  File \"<string>\", line 1, in <module>\n",
      "  File \"/data/nnuser/anaconda3/lib/python3.8/multiprocessing/spawn.py\", line 116, in spawn_main\n",
      "    exitcode = _main(fd, parent_sentinel)\n",
      "  File \"/data/nnuser/anaconda3/lib/python3.8/multiprocessing/spawn.py\", line 126, in _main\n",
      "    self = reduction.pickle.load(from_parent)\n",
      "AttributeError: Can't get attribute 'init_process' on <module '__main__' (built-in)>\n",
      "Traceback (most recent call last):\n",
      "  File \"<string>\", line 1, in <module>\n",
      "  File \"/data/nnuser/anaconda3/lib/python3.8/multiprocessing/spawn.py\", line 116, in spawn_main\n",
      "    exitcode = _main(fd, parent_sentinel)\n",
      "  File \"/data/nnuser/anaconda3/lib/python3.8/multiprocessing/spawn.py\", line 126, in _main\n",
      "    self = reduction.pickle.load(from_parent)\n",
      "AttributeError: Can't get attribute 'init_process' on <module '__main__' (built-in)>\n",
      "Traceback (most recent call last):\n",
      "  File \"<string>\", line 1, in <module>\n",
      "  File \"/data/nnuser/anaconda3/lib/python3.8/multiprocessing/spawn.py\", line 116, in spawn_main\n",
      "    exitcode = _main(fd, parent_sentinel)\n",
      "  File \"/data/nnuser/anaconda3/lib/python3.8/multiprocessing/spawn.py\", line 126, in _main\n",
      "    self = reduction.pickle.load(from_parent)\n",
      "AttributeError: Can't get attribute 'init_process' on <module '__main__' (built-in)>\n",
      "Traceback (most recent call last):\n",
      "  File \"<string>\", line 1, in <module>\n",
      "  File \"/data/nnuser/anaconda3/lib/python3.8/multiprocessing/spawn.py\", line 116, in spawn_main\n",
      "    exitcode = _main(fd, parent_sentinel)\n",
      "  File \"/data/nnuser/anaconda3/lib/python3.8/multiprocessing/spawn.py\", line 126, in _main\n",
      "    self = reduction.pickle.load(from_parent)\n",
      "AttributeError: Can't get attribute 'init_process' on <module '__main__' (built-in)>\n"
     ]
    }
   ],
   "source": [
    "import torch.distributed as dist\n",
    "import torch.multiprocessing as mp\n",
    "# parallel_model = nn.parallel.DistributedDataParallel(StackedHourGlass(num_stacks=5,num_residual=4), device_ids = [0,1,2,3])\n",
    "# input = torch.rand(1,3,128,128)\n",
    "# output = parallel_model(input)\n",
    "def train_model(rank, world_size):\n",
    "    #Configure process, model, and hyperparameters\n",
    "    dist.init_process_group(\"gloo\", rank=rank, world_size=world_size)\n",
    "    model = StackedHourGlass(num_stacks=5,num_residual=4).to(rank)\n",
    "    ddp_model = nn.parallel.DistributedDataParallel(model, device_ids=[rank])\n",
    "    device = torch.device(\"cuda:{}\".format(rank))\n",
    "    config = {\n",
    "        \"data_dir\": \"./\",\n",
    "        \"epochs\": 100,\n",
    "        \"batch_size\": 4,\n",
    "        \"learning_rate\": 0.1,\n",
    "        \"batches_per_epoch\": None,\n",
    "        \"batches_per_epoch_val\": None,\n",
    "        \"device\": device\n",
    "    }\n",
    "\n",
    "    #Initialize training dataset\n",
    "    train_dataset = FreiHAND(config=config, set_type=\"train\")\n",
    "    sampler = DistributedSampler(\n",
    "        train_dataset,\n",
    "        num_replicas=world_size,\n",
    "        rank=rank,\n",
    "        shuffle=True\n",
    "    )\n",
    "    train_dataloader = DataLoader(\n",
    "        train_dataset,\n",
    "        config[\"batch_size\"],\n",
    "        num_workers=4,\n",
    "        sampler=sampler,\n",
    "        pin_memory=True\n",
    "    )\n",
    "\n",
    "    #Initialize validation dataset\n",
    "    val_dataset = FreiHAND(config=config, set_type=\"val\")\n",
    "    sampler = DistributedSampler(\n",
    "        val_dataset,\n",
    "        num_replicas=world_size,\n",
    "        rank=rank,\n",
    "        shuffle=True\n",
    "    )\n",
    "    val_dataloader = DataLoader(\n",
    "        val_dataset,\n",
    "        config[\"batch_size\"],\n",
    "        num_workers=4,\n",
    "        sampler=sampler,\n",
    "        pin_memory=True\n",
    "    )\n",
    "\n",
    "    #Initialize optimizer and scheduler\n",
    "    optimizer = optim.SGD(ddp_model.parameters(), lr=0.0025 )\n",
    "    scheduler = optim.lr_scheduler.ReduceLROnPlateau(\n",
    "        optimizer=optimizer, factor = 0.2, patience=10, verbose=True\n",
    "    )\n",
    "    trainer = Trainer(ddp_model, optimizer, loss_fn, device, lambda x: (x[\"image\"], x[\"heatmaps\"]), epochs = config[\"epochs\"])\n",
    "    trainer.train(train_dataloader, val_dataloader)\n",
    "    dist.destroy_process_group()\n",
    "\n",
    "def init_process(rank, size, fn, backend=\"gloo\"):\n",
    "    dist.init_process_group(backend, rank=rank, world_size=size)\n",
    "    fn(rank,size)\n",
    "if __name__ == \"__main__\":\n",
    "    world_size = torch.cuda.device_count()\n",
    "    processes = []\n",
    "    try: \n",
    "        mp.set_start_method(\"spawn\")\n",
    "    except:\n",
    "        pass\n",
    "    for rank in range(world_size):\n",
    "        p = mp.Process(target=init_process, args=(rank, world_size, train_model))\n",
    "        p.start()\n",
    "        processes.append(p)\n",
    "\n",
    "    for p in processes:\n",
    "        p.join()"
   ]
  },
  {
   "cell_type": "code",
   "execution_count": null,
   "metadata": {},
   "outputs": [],
   "source": []
  }
 ],
 "metadata": {
  "interpreter": {
   "hash": "15b3347ac4d6404f53ccc0bd2979eec447270a48704c949ab20d2ee86ebfcf27"
  },
  "kernelspec": {
   "display_name": "Python 3.8.8 64-bit ('venv': venv)",
   "language": "python",
   "name": "python3"
  },
  "language_info": {
   "codemirror_mode": {
    "name": "ipython",
    "version": 3
   },
   "file_extension": ".py",
   "mimetype": "text/x-python",
   "name": "python",
   "nbconvert_exporter": "python",
   "pygments_lexer": "ipython3",
   "version": "3.8.8"
  },
  "orig_nbformat": 4
 },
 "nbformat": 4,
 "nbformat_minor": 2
}
